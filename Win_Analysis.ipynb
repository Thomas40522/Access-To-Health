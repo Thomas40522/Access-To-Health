{
 "cells": [
  {
   "cell_type": "code",
   "execution_count": null,
   "id": "c0f9fa65",
   "metadata": {
    "scrolled": true
   },
   "outputs": [
    {
     "ename": "",
     "evalue": "",
     "output_type": "error",
     "traceback": [
      "\u001b[1;31mRunning cells with '/usr/local/bin/python3' requires ipykernel package.\n",
      "\u001b[1;31mRun the following command to install 'ipykernel' into the Python environment. \n",
      "\u001b[1;31mCommand: '/usr/local/bin/python3 -m pip install ipykernel -U --user --force-reinstall'"
     ]
    }
   ],
   "source": [
    "import pandas as pd  \n",
    "\n",
    "def extract_data():\n",
    "    country_data = pd.read_csv('/Users/dahirou/Desktop/Hacklytics/World Cup data/WorldCupMatches.csv', index_col=0)\n",
    "    country_dict = {}\n",
    "    \n",
    "    #We are going to initialize a dictionary with the country's # win to loss ratio and\n",
    "    #player capability rating\n",
    "    \n",
    "    for item in country_data['Home Team Name']:\n",
    "        if str(item) == \"\": \n",
    "            break\n",
    "        country_dict[str(item)] = {\"Wins\": 0, \"Losses\": 0, \"WinRate\": 0}\n",
    "        \n",
    "    for item in country_data['Away Team Name']:\n",
    "        if str(item) == \"\": \n",
    "            break\n",
    "        if str(item) not in country_dict:\n",
    "            country_dict[str(item)] = {\"Wins\": 0, \"Losses\": 0, \"WinRate\": 0}\n",
    "    \n",
    "    \n",
    "    results = len(pd.read_csv('WorldCupMatches.csv'))\n",
    "    #print(results)\n",
    "    x = 854\n",
    "    for i in range(0,x):\n",
    "        line = country_data.iloc[i]\n",
    "        country1 = line['Home Team Name']\n",
    "        country2 = line['Away Team Name']\n",
    "        country1goals = line['Home Team Goals']\n",
    "        country2goals = line['Away Team Goals']\n",
    "        if (country1goals > country2goals):\n",
    "            country_dict[country1][\"Wins\"] += 1\n",
    "            country_dict[country2][\"Losses\"] += 1\n",
    "            continue\n",
    "        elif (country1goals < country2goals):\n",
    "            country_dict[country2][\"Wins\"] += 1\n",
    "            country_dict[country1][\"Losses\"] += 1\n",
    "        #In the case where both countries tie, we need to account for penalties\n",
    "        else:\n",
    "            txt = str(country_data.iloc[i][\"Win conditions\"])\n",
    "            #print(txt)\n",
    "            penalty = []\n",
    "            for s in txt:\n",
    "                if s.isdigit():\n",
    "                    penalty.append(int(s))\n",
    "            if (penalty != []) and (penalty[0] > penalty[1]):\n",
    "                country_dict[country1][\"Wins\"] += 1\n",
    "                country_dict[country2][\"Losses\"] += 1\n",
    "            elif (penalty != []) and (penalty[0] < penalty[1]):\n",
    "                country_dict[country2][\"Wins\"] += 1\n",
    "                country_dict[country1][\"Losses\"] += 1\n",
    "            else:\n",
    "                 pass\n",
    "    \n",
    "    for i in country_dict:\n",
    "        country = country_dict[i]\n",
    "        #Precaution to avoid dividing by 0\n",
    "        if ((country['Wins']+country['Losses']) == 0):\n",
    "            country['Losses'] += 1\n",
    "        country['WinRate'] = round((country['Wins'])/(country['Wins']+country['Losses']), 4)\n",
    "        \n",
    "    #Remove any data that does not make sense\n",
    "    nan_count = 0\n",
    "    for i in country_dict:\n",
    "        if i == \"nan\":\n",
    "            nan_count += 1\n",
    "    for i in range(0, nan_count):\n",
    "        del country_dict[\"nan\"]\n",
    "        \n",
    "    outFile = open(\"pWin.csv\",'w')\n",
    "    #print(country_dict)\n",
    "    for i in country_dict:\n",
    "        line = str(i) + \", \" + str(country_dict[i]['WinRate']) + '\\n'\n",
    "        outFile.write(line)\n",
    "        \n",
    "extract_data()\n",
    "\n"
   ]
  },
  {
   "cell_type": "code",
   "execution_count": null,
   "id": "9c52c715",
   "metadata": {},
   "outputs": [],
   "source": []
  },
  {
   "cell_type": "code",
   "execution_count": null,
   "id": "0275c995",
   "metadata": {},
   "outputs": [],
   "source": []
  },
  {
   "cell_type": "code",
   "execution_count": null,
   "id": "18ea15d3",
   "metadata": {},
   "outputs": [],
   "source": []
  }
 ],
 "metadata": {
  "kernelspec": {
   "display_name": "Python 3",
   "language": "python",
   "name": "python3"
  },
  "language_info": {
   "codemirror_mode": {
    "name": "ipython",
    "version": 3
   },
   "file_extension": ".py",
   "mimetype": "text/x-python",
   "name": "python",
   "nbconvert_exporter": "python",
   "pygments_lexer": "ipython3",
   "version": "3.11.1 (v3.11.1:a7a450f84a, Dec  6 2022, 15:24:06) [Clang 13.0.0 (clang-1300.0.29.30)]"
  },
  "vscode": {
   "interpreter": {
    "hash": "aee8b7b246df8f9039afb4144a1f6fd8d2ca17a180786b69acc140d282b71a49"
   }
  }
 },
 "nbformat": 4,
 "nbformat_minor": 5
}
